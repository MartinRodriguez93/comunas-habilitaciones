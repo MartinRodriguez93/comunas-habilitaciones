#https://dash-bootstrap-components.opensource.faculty.ai/docs/quickstart/
app = JupyterDash(
    external_stylesheets=[dbc.themes.BOOTSTRAP]
)

app = JupyterDash(external_stylesheets=[dbc.themes.CERULEAN])

app.layout = dbc.Container(
    [
        dcc.Store(id="store"),

        html.Div(
            id="banner",
            className="banner",
            children=[html.H3("Proyecto Final Grupo 4"),html.Hr(),html.Img(src='/assets/logo_eant.png')]
        ),
        dbc.Button(
            "",
            color="primary",
            block=True,
            id="button",
            className="mb-3",
        ),
        dbc.Tabs(
            [
                dbc.Tab(label="Scope", tab_id="scope"),
                dbc.Tab(label="Limitaciones", tab_id="limitaciones"),
                dbc.Tab(label="Gráficos", tab_id="graficos"),
                dbc.Tab(label="Mapa por comunas CABA", tab_id="choropleth"),
                dbc.Tab(label="Mapa de espacios verdes", tab_id="verde")
            ],
            id="tabs",
            active_tab="scope",
        ),
        html.Div(id="tab-content",
                 className="p-4",
                 style={'backgroundColor': 'white'}),
    ]
)


@app.callback(
    Output("tab-content", "children"),
    [Input("tabs", "active_tab"), Input("store", "data")],
)
def render_tab_content(active_tab, data):
    """
    This callback takes the 'active_tab' property as input, as well as the
    stored graphs, and renders the tab content depending on what the value of
    'active_tab' is.
    """
    if active_tab is not None:
        if active_tab == "scope":
            return html.Div(
                            children=[html.H4('Scope', style={'color':'black','font-weight': 'bold'}),
                                      html.H5(['Relación entre crecimiento poblacional y distintas variables como la cantidad de habilitaciones comerciales 2019, espacios verdes e ingreso percapita familiar por ',
                                               html.Span('comuna',
                                                         id="tooltip-target",
                                                         style={"textDecoration": "underline", "cursor": "pointer"},
                                               )],
                                               style={'color':'black'}),
                                      dbc.Tooltip(
                                                  html.A("www.buenosaires.gob.ar/comunas",
                                                         href='https://www.buenosaires.gob.ar/comunas',
                                                         style={'color':'white'}, 
                                                         target="_blank"),
                                                  autohide=False,
                                                  target="tooltip-target",
                                                  style={'backgroundColor': 'rgb(102,118,255)'},
                                      ),
                                      html.Br(),
                                      dbc.CardDeck(
                                    [   
                                      dbc.Card(
                                               [
                                                dbc.CardImg(src='/assets/team.png', style={'height':'15%', 'width':'25%'}, top=True, className = 'align-self-center'),
                                                dbc.CardBody(                         
                                                             [html.H4('Integrantes',
                                                                      className="card-title",      
                                                                      style={'color':'black','font-weight': 'bold', 'text-align': 'center'}),
                                                                      html.Br(),
                                                                      html.H5(children=[dbc.Row(
                                                                                                [
                                                                                        dbc.Col(html.Li('Emilia Kaczmarczyk'),width=10),
                                                                                        dbc.Col(html.A([html.Img(src='/assets/logo-ln.png',
                                                                                                         style={'height':'80%',
                                                                                                               'width':'80%'
                                                                                                              },
                                                                                                        )],
                                                                                                        href='https://www.linkedin.com/in/emilia-kaczmarczyk/',
                                                                                                        target="_blank")
                                                                                        ),            
                                                                                        ]),
                                                                                        html.Br(),
                                                                                        dbc.Row(
                                                                                                [
                                                                                        dbc.Col(html.Li('Sergio Fasan'),width=10),
                                                                                        dbc.Col(html.A([html.Img(src='/assets/logo-ln.png',
                                                                                                         style={'height':'80%',
                                                                                                               'width':'80%'
                                                                                                              },
                                                                                                        )],
                                                                                                        href='https://www.linkedin.com/in/sergio-octavio-fasan-34b66a1a7/',
                                                                                                        target="_blank")
                                                                                        ),
                                                                                        ]),
                                                                                        html.Br(),
                                                                                        dbc.Row(
                                                                                                [
                                                                                        dbc.Col(html.Li('Pablo Barco'),width=10),
                                                                                        dbc.Col(html.A([html.Img(alt="Link a Linkedin",
                                                                                                                 src='/assets/logo-ln.png',
                                                                                                         style={'height':'80%',
                                                                                                               'width':'80%'
                                                                                                              },
                                                                                                        )],
                                                                                                        href='https://www.linkedin.com/in/pablo-tomás-barco-64284238/',
                                                                                                        target="_blank")
                                                                                        ),
                                                                                        ]),
                                                                                        html.Br(),
                                                                                        dbc.Row(
                                                                                                [
                                                                                        dbc.Col(html.Li('Martín Rodríguez'),width=10),
                                                                                        dbc.Col(html.A([html.Img(src='/assets/logo-ln.png',
                                                                                                         style={'height':'80%',
                                                                                                               'width':'80%'
                                                                                                              },
                                                                                                        )],
                                                                                                        href='https://www.linkedin.com/in/martin-rodriguez-47796392/',
                                                                                                        target="_blank")
                                                                                        ),
                                                                                        ]),
                                                                              ],   
                                                                              className="card-text",
                                                                              style={'color':'black'}
                                                                      ),
                                                ],
                                                ),
                                     ],
                                      style={"width": "18rem"},
                                     ),
                                      dbc.Card(
                                               [
                                                dbc.CardImg(src='/assets/datasets.png', style={'height':'15%', 'width':'25%'}, top=True, className = 'align-self-center'),
                                                dbc.CardBody(                         
                                                             [html.H4('Datasets utilizados',
                                                                          style={'color':'black','font-weight': 'bold', 'text-align': 'center'}),
                                                                          html.Br(),
                                                                          html.H5(children=[html.Li('habilitaciones-2015-a-2018.csv'),
                                                                                            html.Li('habilitaciones-2019.csv'),
                                                                                            html.Li('MT_eah_2417.xslx'),
                                                                                            html.Li('PDE.xslx'),
                                                                                            html.Li('CABA_comunas.geojson'),
                                                                                            html.Li("espacios-verdes-por-habitante-por-comuna.csv")],                                                                                                                                                                 style={'color':'black'}),
                                                  ],
                                                ),
                                     ],
                                      style={"width": "18rem"},
                                     ),
                                      dbc.Card(
                                               [
                                                dbc.CardImg(src='/assets/library.png', style={'height':'15%', 'width':'23%'}, top=True, className = 'align-self-center'),
                                                dbc.CardBody(                         
                                                             [html.H4('Librerías utilizadas',
                                                                          style={'color':'black','font-weight': 'bold', 'text-align': 'center'}),
                                                                          html.Br(),
                                                                          html.H5(children=[html.Li('pandas'),
                                                                                            html.Li('matplotlib.pyplot'),
                                                                                            html.Li('plotly.express'),
                                                                                            html.Li('json'),
                                                                                            html.Li('jupyter_dash'),
                                                                                            html.Li('dash_core_components'),
                                                                                            html.Li('dash_html_components'),
                                                                                            html.Li('dash.dependencies'),
                                                                                            html.Li('dash_table'),
                                                                                            html.Li('dash_bootstrap_components'),
                                                                                          ],
                                                                                  style={'color':'black'}),
                                                  ],
                                                ),
                                     ],
                                      style={"width": "18rem"},
                                     ),
                                ],
                                ),          
                            ],   
         ),                           
        elif active_tab=='limitaciones':
            return html.Div(
                            html.H5(children=[html.Li('El dataset de habilitaciones comerciales 2015 a 2019 no indica las comunas a las que pertenecen las habilitaciones comerciales. Para simplificar el ejercicio se sólo se consideraron las habilitaciones por comuna 2019.', style={'color':'black'}),
                                      html.Br(),
                                      html.Li('El dataset de habilitaciones comerciales 2019 no indica las comunas a las que pertenecen 4509 habilitaciones comerciales de un total de 32578. Para simplificar el ejercicio se eliminaron del dataframe.',
                                              style={'color':'black'}),
                                       html.Br(),
                                      html.Li("Para realizar el mapa de espacios verdes por habitante de cada comuna, se utilizaron los datos más actualizados correspondientes al año 2018, mientras que los datos sobre la cantidad de población corresponden al 2019. De todas formas, las diferencias no son significativas.",style={'color':'black'})        
                                     ]
                                   )
                           ),
        elif active_tab == "graficos":
            return html.Div(
                            html.H5(children=[dbc.Row(
                                                      [
                                                       dbc.Col('El siguiente gráfico de bubble chart muestra que de las 15 comunas solo la Comuna 1 muestra correlación entre el aumento de la población y altos niveles de IPCF con incremento de las habilitaciones comerciales.', style={'color':'black'}),
                                                       dbc.Col(dcc.Graph(figure=graph)),
                                                      ]
                                             ),
                                              dbc.Row(
                                                      [
                                                       dbc.Col('Este grafico muestra que puede haber una correlación, pero no una relación directa, entre el ingreso per cápita familiar y la cantidad de habilitaciones comerciales por comuna.', style={'color':'black'}),
                                                       dbc.Col(dcc.Graph(figure=fig),width=9),
                                                      ]
                                             ),
                                             ])),
        elif active_tab == "choropleth":
            return html.Div(
                            html.H5(children=[html.H5('La diferencia de intensidad de los colores de los mapas por comunas muestra que no existe correlación entre el aumento de la población y el incremento de las habilitaciones comerciales.', style={'color':'black'}),
                                      html.Br(),
                                      dbc.Row(
                                              [
                                                dbc.Col(dcc.Graph(figure=mapa1), width=6),
                                                dbc.Col(dcc.Graph(figure=mapa2), width=6),
                                              ],
                                      )
                                    ],
                            ),
                   ),
        elif active_tab == "verde":
            return html.Div(
                            html.H5(children=[html.H5('La diferencia de intensidad de los colores de los mapas por comunas muestra que no hay una relación causal entre el aumento de población y la cantidad de hectáreas de espacio verde por habitante.', style={'color':'black'}),
                                      html.Br(),
                                      dbc.Row(
                                              [
                                                dbc.Col(dcc.Graph(figure=mapa1), width=6),
                                                dbc.Col(dcc.Graph(figure=mapa3), width=6),
                                              ],
                                      )
                                    ],
                            ),
                   ),
    return "No tab selected"

if __name__ == "__main__":
    app.run_server(debug=True, port=8050)#8124,8125,8126,8050
