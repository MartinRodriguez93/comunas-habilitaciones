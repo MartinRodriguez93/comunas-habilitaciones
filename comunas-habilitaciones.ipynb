#Librerias utilizadas
import pandas as pd
import matplotlib.pyplot as plt
import seaborn as sns
import numpy as np
import plotly.express as px
import json
import plotly.graph_objects as go

#Definción de years a analizar:
list_years=['2017','2018','2019']
series_years=pd.Series(list_years)

file_name='/Users/martinrodriguez/Archivos Martin/Data Analytics/Cursos EANT/Data Analytics con Python/Proyecto Final/Datasets/PDE.xlsx'

#For loop para armar df de poblacion estimada por year:
df_poblacion=pd.DataFrame()

for i in series_years:
    df=pd.read_excel(file_name, sheet_name=i)
    df['year']=i
    df_poblacion=pd.concat([df_poblacion,df],axis=0)

#For loop para armar lista de poblacion estimada por comuna:
list_poblacion=[]

for i in series_years:
    df=pd.read_excel(file_name, sheet_name=i)
    list_poblacion.append(df.iloc[3:18,1])
list_poblacion

list_poblacion_comuna=[]

for i in range(0,len(list_poblacion)):
    for j in list_poblacion[i]:
        list_poblacion_comuna.append(j)

#For loop para armar lista de comunas:
list_comunas=[]

for i in series_years:
    df=pd.read_excel(file_name, sheet_name=i)
    list_comunas.append(df.iloc[3:18,0])
list_comunas

list_comunas2=[]

for i in range(0,len(list_comunas)):
    for j in list_comunas[i]:
        list_comunas2.append(j)
        
#DF de población por year:
df_years_poblacion=pd.DataFrame()
df_years_poblacion['Comuna']=list_comunas2
df_years_poblacion['Q']=list_poblacion_comuna

#Columna de years:
columna_years=pd.Series(
                        list_years*(
                                    len(df_years_poblacion)//len(list_years)#Division = 15 comunas
                                   )
                       ).sort_values().reset_index(drop=True)
df_years_poblacion['Year']=columna_years

df_pivot = df_years_poblacion.pivot_table(index='Year',columns=['Comuna',],aggfunc=sum, fill_value=0).T
df_pivot["Diferencia 17-19"]=df_pivot['2019']-df_pivot['2017']

df_habilitaciones_2019=pd.read_csv('/Users/martinrodriguez/Archivos Martin/Data Analytics/Cursos EANT/Data Analytics con Python/Proyecto Final/Datasets/habilitaciones-2019.csv')
habil_2019=df_habilitaciones_2019[['solicitud', 'long', 'lat','comuna']]

#Check solictudes unicas (debería ser 0):
df_habilitaciones_2019.shape[0]-len(df_habilitaciones_2019['solicitud'].unique())

#Check cantidad de comunas (deberia ser 15):
len(df_habilitaciones_2019['comuna'].unique())==15

#Check cantidad de comunas faltantes:
len(df_habilitaciones_2019.loc[df_habilitaciones_2019['comuna'].isnull(),'comuna'])

#DF habilitaciones sin comunas faltantes:
df_habilitaciones_2019_limpio=df_habilitaciones_2019.loc[~df_habilitaciones_2019['comuna'].isnull(),:].copy()#Pongo copy para 
#evitar el warning del punto siguiente

#Check DF limpio contra original (deberia ser 4509):
df_habilitaciones_2019.shape[0]-df_habilitaciones_2019_limpio.shape[0]

#Creación columna con nro de comuna:

# df_habilitaciones_2019_limpio['nro_comuna']=df_habilitaciones_2019_limpio['comuna'][0][len('comuna '):]

list_nro_comuna=[]
for i in df_habilitaciones_2019_limpio['comuna']:
   list_nro_comuna.append(int(i[len('comuna '):]))

df_habilitaciones_2019_limpio['nro_comuna']=list_nro_comuna

#Check comunas nro_comuna:
df_habilitaciones_2019_limpio['nro_comuna'].unique()

#DF sin solicitudes duplicadas:
df_hab_2019=df_habilitaciones_2019_limpio.drop_duplicates(['solicitud'])

#Check DF con solicitudes borradas (deberia ser 0):
df_hab_2019.shape[0]-len(df_habilitaciones_2019_limpio['solicitud'].unique())

#DF cantidad de habilitaciones 2019 por comuna:
df_Qhab19_com=df_hab_2019['nro_comuna'].value_counts().reset_index()

df_Qhab19_com=df_Qhab19_com.rename({'index':'Comuna','nro_comuna':'Q de habilitaciones 2019'},axis=1)
df_Qhab19_com=df_Qhab19_com.sort_values('Comuna')
df_Qhab19_com=df_Qhab19_com.reset_index(drop=True)

#Merge df_Qhab19_com y df_pivot:
df_PobXHab=pd.merge(df_pivot,df_Qhab19_com,on='Comuna')

#Promedio de ingreso por capita familiar por comuna 
Data_ingreso='/Users/martinrodriguez/Archivos Martin/Data Analytics/Cursos EANT/Data Analytics con Python/Proyecto Final/Datasets/MT_eah_2417.xlsx'

#Construyo Variables Comuna e Ingreso IPCF
df_ingreso=pd.DataFrame(pd.read_excel(Data_ingreso, sheet_name='2019'))
df_ingreso['Comuna']=df_ingreso.iloc[2:17,0]
df_ingreso['Promedio IPCF']=df_ingreso.iloc[1:17,1]
df_ingreso=df_ingreso.iloc[2:17, 2:4].reset_index(drop=True)

#Cambio de formato object a int columna 'Promedio IPCF':
df_ingreso['Promedio IPCF']=[int(i) for i in df_ingreso['Promedio IPCF']]

#Hago Merge con base de Densidad Poblacional y Habilitaciones x comuna
df_IngreXPob=pd.merge(df_PobXHab,df_ingreso,on='Comuna')

#Mapa comunas por incremento poblacional:
with open('/Users/martinrodriguez/Archivos Martin/Data Analytics/Cursos EANT/Data Analytics con Python/Proyecto Final/Datasets/CABA_comunas.geojson') as f:
  comunas_caba = json.load(f)

center_lat=comunas_caba["features"][1]['geometry']['coordinates'][0][0][0][1]
center_lon=comunas_caba["features"][1]['geometry']['coordinates'][0][0][0][0]

max_value = df_IngreXPob['Diferencia 17-19'].max()
mapa1 = px.choropleth(df_IngreXPob,
                    geojson=comunas_caba,
                    locations='Comuna',       
                    color='Diferencia 17-19',
                    color_continuous_scale="Reds",
                    range_color=(0, max_value),
                    featureidkey="properties.COMUNAS",
                    projection="mercator",
                    hover_name='Comuna',
                    hover_data={'Diferencia 17-19':True,
                                'Comuna':False,
                                'Promedio IPCF':':$,.0f', #d3-format's syntax
                                'Q de habilitaciones 2019':True,         
                               }
                    )
mapa1.update_geos(fitbounds="locations", visible=False)
mapa1.update_layout(margin={"r":0,"t":40,"l":0,"b":0},
                  title_text = 'Comunas CABA según crecimiento poblacional 2017-2019',
                  hoverlabel=dict(bgcolor="white",
                                  font_size=12,
                                  font_family="Georgia")
                 )
mapa1.show()

#Mapa comunas por cantidad de habilitaciones 2019:
max_value = df_IngreXPob['Diferencia 17-19'].max()
min_value=df_IngreXPob['Diferencia 17-19'].min()

#Source code RGB: https://htmlcolorcodes.com/es/
colorscale = [
              [0, 'rgb(255,255,255)'],
              [0.3, 'rgb(185,185,185)'],
              [0.5, 'rgb(134,134,134)'],
              [0.8, 'rgb(82,82,82)'],
              [1.0, 'rgb(0,0,0)']
]

mapa2 = px.choropleth(df_IngreXPob,
                    geojson=comunas_caba,
                    locations='Comuna',       
                    color='Q de habilitaciones 2019',
                    color_continuous_scale='Reds',
                    range_color=(min_value, max_value),
                    featureidkey="properties.COMUNAS",
                    projection="mercator",
                    hover_name='Comuna',
                    hover_data={'Q de habilitaciones 2019':True,
                                'Diferencia 17-19':True,
                                'Comuna':False,
                                'Promedio IPCF':':$,.0f', #d3-format's syntax,         
                               }
                    )
mapa2.update_geos(fitbounds="locations", visible=False)
mapa2.update_layout(margin=dict(l=0, r=0, t=25, b=0),
                  title_text = 'Comunas CABA s/ Q de habilitaciones 2019',
                  hoverlabel=dict(bgcolor="white",
                                  font_size=12,
                                  font_family="Georgia")
                 )
mapa2.show()

#Bubble chart
graph=px.scatter(df_IngreXPob,
                 x="Q de habilitaciones 2019",
                 y="Diferencia 17-19",
                 size="Promedio IPCF",
                 color="Comuna",
                 labels={"Diferencia 17-19": "Crecimiento poblacional 2017-2019",
                         "Q de habilitaciones 2019": "Cantidad de habilitaciones 2019"
                        },
                 hover_name='Comuna',
                 hover_data={'Diferencia 17-19':True,
                             'Comuna':False,
                             'Promedio IPCF':':$,.0f', #d3-format's syntax
                             'Q de habilitaciones 2019':True,
                            },
                 size_max=60)

graph.update_layout(title_text='Relación crecimiento poblacional 2017-2019 con habilitaciones comerciales 2019 y promedio IPCF',
                  showlegend=False,
                  hoverlabel=dict(bgcolor="white",
                                  font_size=12,
                                  font_family="Georgia")
                 )
# print("plotly express hovertemplate:", fig.data[0].hovertemplate)
graph.update_traces(hovertemplate='<b>Comuna %{hovertext}</b><br>Cantidad de habilitaciones 2019: <b>%{x}</b><br>Crecimiento poblacional 2017-2019: <b>%{y}</b><br>Promedio IPCF: <b>%{customdata[1]:$,.0f}</b><extra></extra>')
graph.update_xaxes(showspikes=True,spikecolor="black",spikethickness=2)
graph.update_yaxes(showspikes=True,spikecolor="black",spikethickness=2)

graph.show()

#Dataset sobre espacios verdes
#https://data.buenosaires.gob.ar/dataset/disposicion-urbana/archivo/2a76b6aa-3811-4fc7-8e1c-67e4dc314b64
df_verde=pd.read_csv('/Users/martinrodriguez/Archivos Martin/Data Analytics/Cursos EANT/Data Analytics con Python/Proyecto Final/Datasets/espacios-verdes-por-habitante-por-comuna.csv')

#tomo los datos  del año 2018 y me quedo con las columnas de comuna y superficie x habitante
df_verde_2018=(
                df_verde
                    .loc[df_verde.año==2018,["comuna", "superficie_por_habitante"]]
                    .rename(columns={"comuna":"Comuna", "superficie_por_habitante":"ha/mil_habitantes"})
).reset_index(drop=True)
df_verde_2018=df_verde_2018.drop(0)
df_verde_2018=df_verde_2018.reset_index(drop=True)

#Paso a int la columna Comuna
df_verde_2018['Comuna']=df_verde_2018['Comuna'].astype(int)
#Joineo
df_IngreXPob=df_IngreXPob.merge(df_verde_2018,how="outer",on="Comuna")

#Mapa comunas espacios verdes 
center_lat=comunas_caba["features"][1]['geometry']['coordinates'][0][0][0][1]
center_lon=comunas_caba["features"][1]['geometry']['coordinates'][0][0][0][0]

max_value = df_IngreXPob['ha/mil_habitantes'].max()
mapa3 = px.choropleth(df_IngreXPob,
                    geojson=comunas_caba,
                    locations='Comuna',       
                    color='ha/mil_habitantes',
                    color_continuous_scale="Greens",
                    range_color=(0, max_value),
                    featureidkey="properties.COMUNAS",
                    projection="mercator",
                    hover_name='Comuna')
mapa3.update_geos(fitbounds="locations", visible=False)
mapa3.update_layout(margin={"r":0,"t":40,"l":0,"b":0},
                  title_text = 'Hectareas de espacio verde cada mil habitantes',
                  hoverlabel=dict(bgcolor="white",
                                  font_size=12,
                                  font_family="Arial")
                 )
mapa3.show()

#Gráfico con doble eje:
from plotly.subplots import make_subplots

# Creo una figura con eje y secundario
fig = make_subplots(specs=[[{"secondary_y": True}]])

# Agrego mis trazos

fig.add_trace(
    go.Bar(x=df_IngreXPob["Comuna"],
        y=df_IngreXPob["Promedio IPCF"], name="Ingreso per capita familiar", marker_color='#836fff', opacity=0.6),
    secondary_y=False
)

fig.add_trace(
    go.Scatter(x=df_IngreXPob["Comuna"],
        y=df_IngreXPob["Q de habilitaciones 2019"], name="Habilitaciones",marker_color='#ee4000'),
    secondary_y=True,
)



fig.update_layout(title_text="Relacion entre Q de habilitaciones e ingresos por comuna",
    title={"x":0.7,
           "font":{"size":20, "color":"black"}} 
)

#Titulo de x
fig.update_xaxes(title_text="Comunas",type='category')


#Titulo de y
fig.update_yaxes(title_text="Ingreso en pesos", secondary_y=False)
fig.update_yaxes(title_text="Cantidad de habilitaciones", secondary_y=True)

fig.show()
